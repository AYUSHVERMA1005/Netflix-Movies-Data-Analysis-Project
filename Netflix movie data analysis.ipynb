{
 "cells": [
  {
   "cell_type": "code",
   "execution_count": 3,
   "id": "78232015-1851-458b-bc00-4a75712353e8",
   "metadata": {},
   "outputs": [],
   "source": [
    "import numpy as np\n",
    "import pandas as pd\n",
    "import matplotlib.pyplot as plt\n",
    "import seaborn as sns"
   ]
  },
  {
   "cell_type": "code",
   "execution_count": 4,
   "id": "aff29364-85f0-4cf9-89af-5d9638a74865",
   "metadata": {},
   "outputs": [],
   "source": [
    "df = pd.read_csv('mymoviedb.csv', lineterminator = '\\n')"
   ]
  },
  {
   "cell_type": "code",
   "execution_count": 7,
   "id": "1f24f6fe-fde9-41c8-85be-644332ad8c84",
   "metadata": {},
   "outputs": [
    {
     "data": {
      "text/html": [
       "<div>\n",
       "<style scoped>\n",
       "    .dataframe tbody tr th:only-of-type {\n",
       "        vertical-align: middle;\n",
       "    }\n",
       "\n",
       "    .dataframe tbody tr th {\n",
       "        vertical-align: top;\n",
       "    }\n",
       "\n",
       "    .dataframe thead th {\n",
       "        text-align: right;\n",
       "    }\n",
       "</style>\n",
       "<table border=\"1\" class=\"dataframe\">\n",
       "  <thead>\n",
       "    <tr style=\"text-align: right;\">\n",
       "      <th></th>\n",
       "      <th>Release_Date</th>\n",
       "      <th>Title</th>\n",
       "      <th>Overview</th>\n",
       "      <th>Popularity</th>\n",
       "      <th>Vote_Count</th>\n",
       "      <th>Vote_Average</th>\n",
       "      <th>Original_Language</th>\n",
       "      <th>Genre</th>\n",
       "      <th>Poster_Url</th>\n",
       "    </tr>\n",
       "  </thead>\n",
       "  <tbody>\n",
       "    <tr>\n",
       "      <th>0</th>\n",
       "      <td>2021-12-15</td>\n",
       "      <td>Spider-Man: No Way Home</td>\n",
       "      <td>Peter Parker is unmasked and no longer able to...</td>\n",
       "      <td>5083.954</td>\n",
       "      <td>8940</td>\n",
       "      <td>8.3</td>\n",
       "      <td>en</td>\n",
       "      <td>Action, Adventure, Science Fiction</td>\n",
       "      <td>https://image.tmdb.org/t/p/original/1g0dhYtq4i...</td>\n",
       "    </tr>\n",
       "    <tr>\n",
       "      <th>1</th>\n",
       "      <td>2022-03-01</td>\n",
       "      <td>The Batman</td>\n",
       "      <td>In his second year of fighting crime, Batman u...</td>\n",
       "      <td>3827.658</td>\n",
       "      <td>1151</td>\n",
       "      <td>8.1</td>\n",
       "      <td>en</td>\n",
       "      <td>Crime, Mystery, Thriller</td>\n",
       "      <td>https://image.tmdb.org/t/p/original/74xTEgt7R3...</td>\n",
       "    </tr>\n",
       "    <tr>\n",
       "      <th>2</th>\n",
       "      <td>2022-02-25</td>\n",
       "      <td>No Exit</td>\n",
       "      <td>Stranded at a rest stop in the mountains durin...</td>\n",
       "      <td>2618.087</td>\n",
       "      <td>122</td>\n",
       "      <td>6.3</td>\n",
       "      <td>en</td>\n",
       "      <td>Thriller</td>\n",
       "      <td>https://image.tmdb.org/t/p/original/vDHsLnOWKl...</td>\n",
       "    </tr>\n",
       "    <tr>\n",
       "      <th>3</th>\n",
       "      <td>2021-11-24</td>\n",
       "      <td>Encanto</td>\n",
       "      <td>The tale of an extraordinary family, the Madri...</td>\n",
       "      <td>2402.201</td>\n",
       "      <td>5076</td>\n",
       "      <td>7.7</td>\n",
       "      <td>en</td>\n",
       "      <td>Animation, Comedy, Family, Fantasy</td>\n",
       "      <td>https://image.tmdb.org/t/p/original/4j0PNHkMr5...</td>\n",
       "    </tr>\n",
       "    <tr>\n",
       "      <th>4</th>\n",
       "      <td>2021-12-22</td>\n",
       "      <td>The King's Man</td>\n",
       "      <td>As a collection of history's worst tyrants and...</td>\n",
       "      <td>1895.511</td>\n",
       "      <td>1793</td>\n",
       "      <td>7.0</td>\n",
       "      <td>en</td>\n",
       "      <td>Action, Adventure, Thriller, War</td>\n",
       "      <td>https://image.tmdb.org/t/p/original/aq4Pwv5Xeu...</td>\n",
       "    </tr>\n",
       "  </tbody>\n",
       "</table>\n",
       "</div>"
      ],
      "text/plain": [
       "  Release_Date                    Title  \\\n",
       "0   2021-12-15  Spider-Man: No Way Home   \n",
       "1   2022-03-01               The Batman   \n",
       "2   2022-02-25                  No Exit   \n",
       "3   2021-11-24                  Encanto   \n",
       "4   2021-12-22           The King's Man   \n",
       "\n",
       "                                            Overview  Popularity  Vote_Count  \\\n",
       "0  Peter Parker is unmasked and no longer able to...    5083.954        8940   \n",
       "1  In his second year of fighting crime, Batman u...    3827.658        1151   \n",
       "2  Stranded at a rest stop in the mountains durin...    2618.087         122   \n",
       "3  The tale of an extraordinary family, the Madri...    2402.201        5076   \n",
       "4  As a collection of history's worst tyrants and...    1895.511        1793   \n",
       "\n",
       "   Vote_Average Original_Language                               Genre  \\\n",
       "0           8.3                en  Action, Adventure, Science Fiction   \n",
       "1           8.1                en            Crime, Mystery, Thriller   \n",
       "2           6.3                en                            Thriller   \n",
       "3           7.7                en  Animation, Comedy, Family, Fantasy   \n",
       "4           7.0                en    Action, Adventure, Thriller, War   \n",
       "\n",
       "                                          Poster_Url  \n",
       "0  https://image.tmdb.org/t/p/original/1g0dhYtq4i...  \n",
       "1  https://image.tmdb.org/t/p/original/74xTEgt7R3...  \n",
       "2  https://image.tmdb.org/t/p/original/vDHsLnOWKl...  \n",
       "3  https://image.tmdb.org/t/p/original/4j0PNHkMr5...  \n",
       "4  https://image.tmdb.org/t/p/original/aq4Pwv5Xeu...  "
      ]
     },
     "execution_count": 7,
     "metadata": {},
     "output_type": "execute_result"
    }
   ],
   "source": [
    "df.head()"
   ]
  },
  {
   "cell_type": "code",
   "execution_count": 9,
   "id": "f6e55cc2-64b0-4107-9927-a9b001c0c410",
   "metadata": {},
   "outputs": [
    {
     "name": "stdout",
     "output_type": "stream",
     "text": [
      "<class 'pandas.core.frame.DataFrame'>\n",
      "RangeIndex: 9827 entries, 0 to 9826\n",
      "Data columns (total 9 columns):\n",
      " #   Column             Non-Null Count  Dtype  \n",
      "---  ------             --------------  -----  \n",
      " 0   Release_Date       9827 non-null   object \n",
      " 1   Title              9827 non-null   object \n",
      " 2   Overview           9827 non-null   object \n",
      " 3   Popularity         9827 non-null   float64\n",
      " 4   Vote_Count         9827 non-null   int64  \n",
      " 5   Vote_Average       9827 non-null   float64\n",
      " 6   Original_Language  9827 non-null   object \n",
      " 7   Genre              9827 non-null   object \n",
      " 8   Poster_Url         9827 non-null   object \n",
      "dtypes: float64(2), int64(1), object(6)\n",
      "memory usage: 691.1+ KB\n"
     ]
    }
   ],
   "source": [
    "df.info()"
   ]
  },
  {
   "cell_type": "code",
   "execution_count": 13,
   "id": "ad4418e0-f8bf-402e-a10a-0da31fd333b9",
   "metadata": {},
   "outputs": [
    {
     "data": {
      "text/plain": [
       "0    Action, Adventure, Science Fiction\n",
       "1              Crime, Mystery, Thriller\n",
       "2                              Thriller\n",
       "3    Animation, Comedy, Family, Fantasy\n",
       "4      Action, Adventure, Thriller, War\n",
       "Name: Genre, dtype: object"
      ]
     },
     "execution_count": 13,
     "metadata": {},
     "output_type": "execute_result"
    }
   ],
   "source": [
    "df['Genre'].head()"
   ]
  },
  {
   "cell_type": "code",
   "execution_count": 15,
   "id": "2c66ca7f-66bb-44f0-9f80-5a1d595063da",
   "metadata": {},
   "outputs": [
    {
     "data": {
      "text/plain": [
       "0"
      ]
     },
     "execution_count": 15,
     "metadata": {},
     "output_type": "execute_result"
    }
   ],
   "source": [
    "df.duplicated().sum()"
   ]
  },
  {
   "cell_type": "code",
   "execution_count": 17,
   "id": "570e7f3c-aa03-4656-a954-ec418755bd25",
   "metadata": {},
   "outputs": [
    {
     "data": {
      "text/html": [
       "<div>\n",
       "<style scoped>\n",
       "    .dataframe tbody tr th:only-of-type {\n",
       "        vertical-align: middle;\n",
       "    }\n",
       "\n",
       "    .dataframe tbody tr th {\n",
       "        vertical-align: top;\n",
       "    }\n",
       "\n",
       "    .dataframe thead th {\n",
       "        text-align: right;\n",
       "    }\n",
       "</style>\n",
       "<table border=\"1\" class=\"dataframe\">\n",
       "  <thead>\n",
       "    <tr style=\"text-align: right;\">\n",
       "      <th></th>\n",
       "      <th>Popularity</th>\n",
       "      <th>Vote_Count</th>\n",
       "      <th>Vote_Average</th>\n",
       "    </tr>\n",
       "  </thead>\n",
       "  <tbody>\n",
       "    <tr>\n",
       "      <th>count</th>\n",
       "      <td>9827.000000</td>\n",
       "      <td>9827.000000</td>\n",
       "      <td>9827.000000</td>\n",
       "    </tr>\n",
       "    <tr>\n",
       "      <th>mean</th>\n",
       "      <td>40.326088</td>\n",
       "      <td>1392.805536</td>\n",
       "      <td>6.439534</td>\n",
       "    </tr>\n",
       "    <tr>\n",
       "      <th>std</th>\n",
       "      <td>108.873998</td>\n",
       "      <td>2611.206907</td>\n",
       "      <td>1.129759</td>\n",
       "    </tr>\n",
       "    <tr>\n",
       "      <th>min</th>\n",
       "      <td>13.354000</td>\n",
       "      <td>0.000000</td>\n",
       "      <td>0.000000</td>\n",
       "    </tr>\n",
       "    <tr>\n",
       "      <th>25%</th>\n",
       "      <td>16.128500</td>\n",
       "      <td>146.000000</td>\n",
       "      <td>5.900000</td>\n",
       "    </tr>\n",
       "    <tr>\n",
       "      <th>50%</th>\n",
       "      <td>21.199000</td>\n",
       "      <td>444.000000</td>\n",
       "      <td>6.500000</td>\n",
       "    </tr>\n",
       "    <tr>\n",
       "      <th>75%</th>\n",
       "      <td>35.191500</td>\n",
       "      <td>1376.000000</td>\n",
       "      <td>7.100000</td>\n",
       "    </tr>\n",
       "    <tr>\n",
       "      <th>max</th>\n",
       "      <td>5083.954000</td>\n",
       "      <td>31077.000000</td>\n",
       "      <td>10.000000</td>\n",
       "    </tr>\n",
       "  </tbody>\n",
       "</table>\n",
       "</div>"
      ],
      "text/plain": [
       "        Popularity    Vote_Count  Vote_Average\n",
       "count  9827.000000   9827.000000   9827.000000\n",
       "mean     40.326088   1392.805536      6.439534\n",
       "std     108.873998   2611.206907      1.129759\n",
       "min      13.354000      0.000000      0.000000\n",
       "25%      16.128500    146.000000      5.900000\n",
       "50%      21.199000    444.000000      6.500000\n",
       "75%      35.191500   1376.000000      7.100000\n",
       "max    5083.954000  31077.000000     10.000000"
      ]
     },
     "execution_count": 17,
     "metadata": {},
     "output_type": "execute_result"
    }
   ],
   "source": [
    "df.describe()"
   ]
  },
  {
   "cell_type": "markdown",
   "id": "b3f0cdaa-fdb6-49cb-98b4-a69ad114fc90",
   "metadata": {},
   "source": [
    "• Exploration Summary\n",
    "• we have a dataframe consisting of 9827 rows and 9 columns.\n",
    "• our dataset looks a bit tidy with no NaNs nor duplicated values.\n",
    "• Release_Date column needs to be casted into date time and to extract only the year value.\n",
    "• Overview, Original_Languege and Poster-Url wouldn't be so useful during analysis, so we'll drop them.\n",
    "• There is noticable outliers in Popularity column.\n",
    "• Vote_Average bettter be categorised for proper analysis.\n",
    "• Genre column has comma saperated values and white spaces that needs to be handled and casted into category.Explanation summary."
   ]
  },
  {
   "cell_type": "code",
   "execution_count": 21,
   "id": "4b87520c-7e2a-40cb-aeab-007054775510",
   "metadata": {},
   "outputs": [
    {
     "name": "stdout",
     "output_type": "stream",
     "text": [
      "datetime64[ns]\n"
     ]
    }
   ],
   "source": [
    "df['Release_Date'] = pd.to_datetime(df['Release_Date'])\n",
    "\n",
    "print(df['Release_Date'].dtype)"
   ]
  },
  {
   "cell_type": "code",
   "execution_count": 23,
   "id": "83616649-fc57-4281-9702-b6c11f62b0bb",
   "metadata": {},
   "outputs": [
    {
     "data": {
      "text/plain": [
       "dtype('int32')"
      ]
     },
     "execution_count": 23,
     "metadata": {},
     "output_type": "execute_result"
    }
   ],
   "source": [
    "df['Release_Date'] = df['Release_Date'].dt.year\n",
    "df['Release_Date'].dtypes"
   ]
  },
  {
   "cell_type": "code",
   "execution_count": 25,
   "id": "d67771cc-660f-4868-8c7a-458cb7e4f4be",
   "metadata": {},
   "outputs": [
    {
     "data": {
      "text/html": [
       "<div>\n",
       "<style scoped>\n",
       "    .dataframe tbody tr th:only-of-type {\n",
       "        vertical-align: middle;\n",
       "    }\n",
       "\n",
       "    .dataframe tbody tr th {\n",
       "        vertical-align: top;\n",
       "    }\n",
       "\n",
       "    .dataframe thead th {\n",
       "        text-align: right;\n",
       "    }\n",
       "</style>\n",
       "<table border=\"1\" class=\"dataframe\">\n",
       "  <thead>\n",
       "    <tr style=\"text-align: right;\">\n",
       "      <th></th>\n",
       "      <th>Release_Date</th>\n",
       "      <th>Title</th>\n",
       "      <th>Overview</th>\n",
       "      <th>Popularity</th>\n",
       "      <th>Vote_Count</th>\n",
       "      <th>Vote_Average</th>\n",
       "      <th>Original_Language</th>\n",
       "      <th>Genre</th>\n",
       "      <th>Poster_Url</th>\n",
       "    </tr>\n",
       "  </thead>\n",
       "  <tbody>\n",
       "    <tr>\n",
       "      <th>0</th>\n",
       "      <td>2021</td>\n",
       "      <td>Spider-Man: No Way Home</td>\n",
       "      <td>Peter Parker is unmasked and no longer able to...</td>\n",
       "      <td>5083.954</td>\n",
       "      <td>8940</td>\n",
       "      <td>8.3</td>\n",
       "      <td>en</td>\n",
       "      <td>Action, Adventure, Science Fiction</td>\n",
       "      <td>https://image.tmdb.org/t/p/original/1g0dhYtq4i...</td>\n",
       "    </tr>\n",
       "    <tr>\n",
       "      <th>1</th>\n",
       "      <td>2022</td>\n",
       "      <td>The Batman</td>\n",
       "      <td>In his second year of fighting crime, Batman u...</td>\n",
       "      <td>3827.658</td>\n",
       "      <td>1151</td>\n",
       "      <td>8.1</td>\n",
       "      <td>en</td>\n",
       "      <td>Crime, Mystery, Thriller</td>\n",
       "      <td>https://image.tmdb.org/t/p/original/74xTEgt7R3...</td>\n",
       "    </tr>\n",
       "    <tr>\n",
       "      <th>2</th>\n",
       "      <td>2022</td>\n",
       "      <td>No Exit</td>\n",
       "      <td>Stranded at a rest stop in the mountains durin...</td>\n",
       "      <td>2618.087</td>\n",
       "      <td>122</td>\n",
       "      <td>6.3</td>\n",
       "      <td>en</td>\n",
       "      <td>Thriller</td>\n",
       "      <td>https://image.tmdb.org/t/p/original/vDHsLnOWKl...</td>\n",
       "    </tr>\n",
       "    <tr>\n",
       "      <th>3</th>\n",
       "      <td>2021</td>\n",
       "      <td>Encanto</td>\n",
       "      <td>The tale of an extraordinary family, the Madri...</td>\n",
       "      <td>2402.201</td>\n",
       "      <td>5076</td>\n",
       "      <td>7.7</td>\n",
       "      <td>en</td>\n",
       "      <td>Animation, Comedy, Family, Fantasy</td>\n",
       "      <td>https://image.tmdb.org/t/p/original/4j0PNHkMr5...</td>\n",
       "    </tr>\n",
       "    <tr>\n",
       "      <th>4</th>\n",
       "      <td>2021</td>\n",
       "      <td>The King's Man</td>\n",
       "      <td>As a collection of history's worst tyrants and...</td>\n",
       "      <td>1895.511</td>\n",
       "      <td>1793</td>\n",
       "      <td>7.0</td>\n",
       "      <td>en</td>\n",
       "      <td>Action, Adventure, Thriller, War</td>\n",
       "      <td>https://image.tmdb.org/t/p/original/aq4Pwv5Xeu...</td>\n",
       "    </tr>\n",
       "  </tbody>\n",
       "</table>\n",
       "</div>"
      ],
      "text/plain": [
       "   Release_Date                    Title  \\\n",
       "0          2021  Spider-Man: No Way Home   \n",
       "1          2022               The Batman   \n",
       "2          2022                  No Exit   \n",
       "3          2021                  Encanto   \n",
       "4          2021           The King's Man   \n",
       "\n",
       "                                            Overview  Popularity  Vote_Count  \\\n",
       "0  Peter Parker is unmasked and no longer able to...    5083.954        8940   \n",
       "1  In his second year of fighting crime, Batman u...    3827.658        1151   \n",
       "2  Stranded at a rest stop in the mountains durin...    2618.087         122   \n",
       "3  The tale of an extraordinary family, the Madri...    2402.201        5076   \n",
       "4  As a collection of history's worst tyrants and...    1895.511        1793   \n",
       "\n",
       "   Vote_Average Original_Language                               Genre  \\\n",
       "0           8.3                en  Action, Adventure, Science Fiction   \n",
       "1           8.1                en            Crime, Mystery, Thriller   \n",
       "2           6.3                en                            Thriller   \n",
       "3           7.7                en  Animation, Comedy, Family, Fantasy   \n",
       "4           7.0                en    Action, Adventure, Thriller, War   \n",
       "\n",
       "                                          Poster_Url  \n",
       "0  https://image.tmdb.org/t/p/original/1g0dhYtq4i...  \n",
       "1  https://image.tmdb.org/t/p/original/74xTEgt7R3...  \n",
       "2  https://image.tmdb.org/t/p/original/vDHsLnOWKl...  \n",
       "3  https://image.tmdb.org/t/p/original/4j0PNHkMr5...  \n",
       "4  https://image.tmdb.org/t/p/original/aq4Pwv5Xeu...  "
      ]
     },
     "execution_count": 25,
     "metadata": {},
     "output_type": "execute_result"
    }
   ],
   "source": [
    "df.head()"
   ]
  },
  {
   "cell_type": "markdown",
   "id": "0439e537-319c-44d8-bac9-3b36cbfec9ec",
   "metadata": {},
   "source": [
    "Dropping the columns"
   ]
  },
  {
   "cell_type": "code",
   "execution_count": 29,
   "id": "366fa3ed-7226-4aa9-9e4c-aa4dc794aeb7",
   "metadata": {},
   "outputs": [],
   "source": [
    "cols = ['Overview', 'Original_Language', 'Poster_Url']"
   ]
  },
  {
   "cell_type": "code",
   "execution_count": 31,
   "id": "cadfd811-6a20-4e40-99cf-42a69fc42607",
   "metadata": {},
   "outputs": [
    {
     "data": {
      "text/plain": [
       "Index(['Release_Date', 'Title', 'Popularity', 'Vote_Count', 'Vote_Average',\n",
       "       'Genre'],\n",
       "      dtype='object')"
      ]
     },
     "execution_count": 31,
     "metadata": {},
     "output_type": "execute_result"
    }
   ],
   "source": [
    "df.drop(cols, axis = 1, inplace = True)\n",
    "df.columns"
   ]
  },
  {
   "cell_type": "code",
   "execution_count": 33,
   "id": "8c86f2a5-fbe7-4e87-81b5-5b081f554808",
   "metadata": {},
   "outputs": [
    {
     "data": {
      "text/html": [
       "<div>\n",
       "<style scoped>\n",
       "    .dataframe tbody tr th:only-of-type {\n",
       "        vertical-align: middle;\n",
       "    }\n",
       "\n",
       "    .dataframe tbody tr th {\n",
       "        vertical-align: top;\n",
       "    }\n",
       "\n",
       "    .dataframe thead th {\n",
       "        text-align: right;\n",
       "    }\n",
       "</style>\n",
       "<table border=\"1\" class=\"dataframe\">\n",
       "  <thead>\n",
       "    <tr style=\"text-align: right;\">\n",
       "      <th></th>\n",
       "      <th>Release_Date</th>\n",
       "      <th>Title</th>\n",
       "      <th>Popularity</th>\n",
       "      <th>Vote_Count</th>\n",
       "      <th>Vote_Average</th>\n",
       "      <th>Genre</th>\n",
       "    </tr>\n",
       "  </thead>\n",
       "  <tbody>\n",
       "    <tr>\n",
       "      <th>0</th>\n",
       "      <td>2021</td>\n",
       "      <td>Spider-Man: No Way Home</td>\n",
       "      <td>5083.954</td>\n",
       "      <td>8940</td>\n",
       "      <td>8.3</td>\n",
       "      <td>Action, Adventure, Science Fiction</td>\n",
       "    </tr>\n",
       "    <tr>\n",
       "      <th>1</th>\n",
       "      <td>2022</td>\n",
       "      <td>The Batman</td>\n",
       "      <td>3827.658</td>\n",
       "      <td>1151</td>\n",
       "      <td>8.1</td>\n",
       "      <td>Crime, Mystery, Thriller</td>\n",
       "    </tr>\n",
       "    <tr>\n",
       "      <th>2</th>\n",
       "      <td>2022</td>\n",
       "      <td>No Exit</td>\n",
       "      <td>2618.087</td>\n",
       "      <td>122</td>\n",
       "      <td>6.3</td>\n",
       "      <td>Thriller</td>\n",
       "    </tr>\n",
       "    <tr>\n",
       "      <th>3</th>\n",
       "      <td>2021</td>\n",
       "      <td>Encanto</td>\n",
       "      <td>2402.201</td>\n",
       "      <td>5076</td>\n",
       "      <td>7.7</td>\n",
       "      <td>Animation, Comedy, Family, Fantasy</td>\n",
       "    </tr>\n",
       "    <tr>\n",
       "      <th>4</th>\n",
       "      <td>2021</td>\n",
       "      <td>The King's Man</td>\n",
       "      <td>1895.511</td>\n",
       "      <td>1793</td>\n",
       "      <td>7.0</td>\n",
       "      <td>Action, Adventure, Thriller, War</td>\n",
       "    </tr>\n",
       "  </tbody>\n",
       "</table>\n",
       "</div>"
      ],
      "text/plain": [
       "   Release_Date                    Title  Popularity  Vote_Count  \\\n",
       "0          2021  Spider-Man: No Way Home    5083.954        8940   \n",
       "1          2022               The Batman    3827.658        1151   \n",
       "2          2022                  No Exit    2618.087         122   \n",
       "3          2021                  Encanto    2402.201        5076   \n",
       "4          2021           The King's Man    1895.511        1793   \n",
       "\n",
       "   Vote_Average                               Genre  \n",
       "0           8.3  Action, Adventure, Science Fiction  \n",
       "1           8.1            Crime, Mystery, Thriller  \n",
       "2           6.3                            Thriller  \n",
       "3           7.7  Animation, Comedy, Family, Fantasy  \n",
       "4           7.0    Action, Adventure, Thriller, War  "
      ]
     },
     "execution_count": 33,
     "metadata": {},
     "output_type": "execute_result"
    }
   ],
   "source": [
    "df.head()"
   ]
  },
  {
   "cell_type": "markdown",
   "id": "b5f0b49d-be03-403e-9087-1ae3832abb1d",
   "metadata": {},
   "source": [
    "**categorizing 'Vote_Average' column**\n",
    "\n",
    "We would cut the Vote_Average values and make 4 categories: 'popular' 'average'\n",
    "'below_avg' 'not_popular' to describe it more using categorize_col() function\n",
    "provided above.\n"
   ]
  },
  {
   "cell_type": "code",
   "execution_count": 45,
   "id": "48b594d5-eefe-4580-9534-6fa986bdaa69",
   "metadata": {},
   "outputs": [],
   "source": [
    "def categorize_col(df, col, labels):\n",
    "\n",
    "    edges = [df[col].describe()['min'],\n",
    "             df[col].describe()['25%'],\n",
    "             df[col].describe()['50%'],\n",
    "             df[col].describe()['75%'],\n",
    "             df[col].describe()['max']]\n",
    "    df[col] = pd.cut(df[col], edges, labels = labels, duplicates = 'drop')\n",
    "    return df\n",
    "            "
   ]
  },
  {
   "cell_type": "code",
   "execution_count": 47,
   "id": "ea579a20-42c3-46c0-b953-d5a567949d8f",
   "metadata": {},
   "outputs": [
    {
     "data": {
      "text/plain": [
       "['popular', 'below_avg', 'average', 'not_popular', NaN]\n",
       "Categories (4, object): ['not_popular' < 'below_avg' < 'average' < 'popular']"
      ]
     },
     "execution_count": 47,
     "metadata": {},
     "output_type": "execute_result"
    }
   ],
   "source": [
    "labels = ['not_popular','below_avg','average','popular']\n",
    "\n",
    "categorize_col(df, 'Vote_Average', labels)\n",
    "\n",
    "df['Vote_Average'].unique()"
   ]
  },
  {
   "cell_type": "code",
   "execution_count": 49,
   "id": "13aeed2d-7f85-420c-85b7-dea57736abc9",
   "metadata": {},
   "outputs": [
    {
     "data": {
      "text/html": [
       "<div>\n",
       "<style scoped>\n",
       "    .dataframe tbody tr th:only-of-type {\n",
       "        vertical-align: middle;\n",
       "    }\n",
       "\n",
       "    .dataframe tbody tr th {\n",
       "        vertical-align: top;\n",
       "    }\n",
       "\n",
       "    .dataframe thead th {\n",
       "        text-align: right;\n",
       "    }\n",
       "</style>\n",
       "<table border=\"1\" class=\"dataframe\">\n",
       "  <thead>\n",
       "    <tr style=\"text-align: right;\">\n",
       "      <th></th>\n",
       "      <th>Release_Date</th>\n",
       "      <th>Title</th>\n",
       "      <th>Popularity</th>\n",
       "      <th>Vote_Count</th>\n",
       "      <th>Vote_Average</th>\n",
       "      <th>Genre</th>\n",
       "    </tr>\n",
       "  </thead>\n",
       "  <tbody>\n",
       "    <tr>\n",
       "      <th>0</th>\n",
       "      <td>2021</td>\n",
       "      <td>Spider-Man: No Way Home</td>\n",
       "      <td>5083.954</td>\n",
       "      <td>8940</td>\n",
       "      <td>popular</td>\n",
       "      <td>Action, Adventure, Science Fiction</td>\n",
       "    </tr>\n",
       "    <tr>\n",
       "      <th>1</th>\n",
       "      <td>2022</td>\n",
       "      <td>The Batman</td>\n",
       "      <td>3827.658</td>\n",
       "      <td>1151</td>\n",
       "      <td>popular</td>\n",
       "      <td>Crime, Mystery, Thriller</td>\n",
       "    </tr>\n",
       "    <tr>\n",
       "      <th>2</th>\n",
       "      <td>2022</td>\n",
       "      <td>No Exit</td>\n",
       "      <td>2618.087</td>\n",
       "      <td>122</td>\n",
       "      <td>below_avg</td>\n",
       "      <td>Thriller</td>\n",
       "    </tr>\n",
       "    <tr>\n",
       "      <th>3</th>\n",
       "      <td>2021</td>\n",
       "      <td>Encanto</td>\n",
       "      <td>2402.201</td>\n",
       "      <td>5076</td>\n",
       "      <td>popular</td>\n",
       "      <td>Animation, Comedy, Family, Fantasy</td>\n",
       "    </tr>\n",
       "    <tr>\n",
       "      <th>4</th>\n",
       "      <td>2021</td>\n",
       "      <td>The King's Man</td>\n",
       "      <td>1895.511</td>\n",
       "      <td>1793</td>\n",
       "      <td>average</td>\n",
       "      <td>Action, Adventure, Thriller, War</td>\n",
       "    </tr>\n",
       "  </tbody>\n",
       "</table>\n",
       "</div>"
      ],
      "text/plain": [
       "   Release_Date                    Title  Popularity  Vote_Count Vote_Average  \\\n",
       "0          2021  Spider-Man: No Way Home    5083.954        8940      popular   \n",
       "1          2022               The Batman    3827.658        1151      popular   \n",
       "2          2022                  No Exit    2618.087         122    below_avg   \n",
       "3          2021                  Encanto    2402.201        5076      popular   \n",
       "4          2021           The King's Man    1895.511        1793      average   \n",
       "\n",
       "                                Genre  \n",
       "0  Action, Adventure, Science Fiction  \n",
       "1            Crime, Mystery, Thriller  \n",
       "2                            Thriller  \n",
       "3  Animation, Comedy, Family, Fantasy  \n",
       "4    Action, Adventure, Thriller, War  "
      ]
     },
     "execution_count": 49,
     "metadata": {},
     "output_type": "execute_result"
    }
   ],
   "source": [
    "df.head()"
   ]
  },
  {
   "cell_type": "code",
   "execution_count": 51,
   "id": "e6af5671-3142-4042-88a9-6fdca4d3767c",
   "metadata": {},
   "outputs": [
    {
     "data": {
      "text/plain": [
       "Vote_Average\n",
       "not_popular    2467\n",
       "popular        2450\n",
       "average        2412\n",
       "below_avg      2398\n",
       "Name: count, dtype: int64"
      ]
     },
     "execution_count": 51,
     "metadata": {},
     "output_type": "execute_result"
    }
   ],
   "source": [
    "df['Vote_Average'].value_counts()"
   ]
  },
  {
   "cell_type": "code",
   "execution_count": 53,
   "id": "14e80b31-92d1-4cbf-ba25-e8ff47151413",
   "metadata": {},
   "outputs": [
    {
     "data": {
      "text/plain": [
       "Release_Date    0\n",
       "Title           0\n",
       "Popularity      0\n",
       "Vote_Count      0\n",
       "Vote_Average    0\n",
       "Genre           0\n",
       "dtype: int64"
      ]
     },
     "execution_count": 53,
     "metadata": {},
     "output_type": "execute_result"
    }
   ],
   "source": [
    " df.dropna(inplace = True)\n",
    "\n",
    "df.isna().sum()"
   ]
  },
  {
   "cell_type": "markdown",
   "id": "33ae87c5-c027-48fc-90cf-72201bfdd0bc",
   "metadata": {},
   "source": [
    "we would split the genres into a list and then explode our dataframe to have only one genre per row for each movie"
   ]
  },
  {
   "cell_type": "code",
   "execution_count": 57,
   "id": "e1a0bb0c-d97f-4981-8f5b-41c42e48fc19",
   "metadata": {},
   "outputs": [
    {
     "data": {
      "text/html": [
       "<div>\n",
       "<style scoped>\n",
       "    .dataframe tbody tr th:only-of-type {\n",
       "        vertical-align: middle;\n",
       "    }\n",
       "\n",
       "    .dataframe tbody tr th {\n",
       "        vertical-align: top;\n",
       "    }\n",
       "\n",
       "    .dataframe thead th {\n",
       "        text-align: right;\n",
       "    }\n",
       "</style>\n",
       "<table border=\"1\" class=\"dataframe\">\n",
       "  <thead>\n",
       "    <tr style=\"text-align: right;\">\n",
       "      <th></th>\n",
       "      <th>Release_Date</th>\n",
       "      <th>Title</th>\n",
       "      <th>Popularity</th>\n",
       "      <th>Vote_Count</th>\n",
       "      <th>Vote_Average</th>\n",
       "      <th>Genre</th>\n",
       "    </tr>\n",
       "  </thead>\n",
       "  <tbody>\n",
       "    <tr>\n",
       "      <th>0</th>\n",
       "      <td>2021</td>\n",
       "      <td>Spider-Man: No Way Home</td>\n",
       "      <td>5083.954</td>\n",
       "      <td>8940</td>\n",
       "      <td>popular</td>\n",
       "      <td>Action</td>\n",
       "    </tr>\n",
       "    <tr>\n",
       "      <th>1</th>\n",
       "      <td>2021</td>\n",
       "      <td>Spider-Man: No Way Home</td>\n",
       "      <td>5083.954</td>\n",
       "      <td>8940</td>\n",
       "      <td>popular</td>\n",
       "      <td>Adventure</td>\n",
       "    </tr>\n",
       "    <tr>\n",
       "      <th>2</th>\n",
       "      <td>2021</td>\n",
       "      <td>Spider-Man: No Way Home</td>\n",
       "      <td>5083.954</td>\n",
       "      <td>8940</td>\n",
       "      <td>popular</td>\n",
       "      <td>Science Fiction</td>\n",
       "    </tr>\n",
       "    <tr>\n",
       "      <th>3</th>\n",
       "      <td>2022</td>\n",
       "      <td>The Batman</td>\n",
       "      <td>3827.658</td>\n",
       "      <td>1151</td>\n",
       "      <td>popular</td>\n",
       "      <td>Crime</td>\n",
       "    </tr>\n",
       "    <tr>\n",
       "      <th>4</th>\n",
       "      <td>2022</td>\n",
       "      <td>The Batman</td>\n",
       "      <td>3827.658</td>\n",
       "      <td>1151</td>\n",
       "      <td>popular</td>\n",
       "      <td>Mystery</td>\n",
       "    </tr>\n",
       "  </tbody>\n",
       "</table>\n",
       "</div>"
      ],
      "text/plain": [
       "   Release_Date                    Title  Popularity  Vote_Count Vote_Average  \\\n",
       "0          2021  Spider-Man: No Way Home    5083.954        8940      popular   \n",
       "1          2021  Spider-Man: No Way Home    5083.954        8940      popular   \n",
       "2          2021  Spider-Man: No Way Home    5083.954        8940      popular   \n",
       "3          2022               The Batman    3827.658        1151      popular   \n",
       "4          2022               The Batman    3827.658        1151      popular   \n",
       "\n",
       "             Genre  \n",
       "0           Action  \n",
       "1        Adventure  \n",
       "2  Science Fiction  \n",
       "3            Crime  \n",
       "4          Mystery  "
      ]
     },
     "execution_count": 57,
     "metadata": {},
     "output_type": "execute_result"
    }
   ],
   "source": [
    "df['Genre'] = df['Genre'].str.split(', ')\n",
    "\n",
    "df = df.explode('Genre').reset_index(drop = True)\n",
    "df.head()"
   ]
  },
  {
   "cell_type": "code",
   "execution_count": 59,
   "id": "549204d2-b618-4bf3-bbbf-00fe97820923",
   "metadata": {},
   "outputs": [
    {
     "data": {
      "text/plain": [
       "CategoricalDtype(categories=['Action', 'Adventure', 'Animation', 'Comedy', 'Crime',\n",
       "                  'Documentary', 'Drama', 'Family', 'Fantasy', 'History',\n",
       "                  'Horror', 'Music', 'Mystery', 'Romance', 'Science Fiction',\n",
       "                  'TV Movie', 'Thriller', 'War', 'Western'],\n",
       ", ordered=False, categories_dtype=object)"
      ]
     },
     "execution_count": 59,
     "metadata": {},
     "output_type": "execute_result"
    }
   ],
   "source": [
    "#casting column into category\n",
    "\n",
    "df['Genre']= df['Genre'].astype('category')\n",
    "\n",
    "df['Genre'].dtypes"
   ]
  },
  {
   "cell_type": "code",
   "execution_count": 61,
   "id": "1a5511a5-e776-42f8-b3a6-e075eca44e8a",
   "metadata": {},
   "outputs": [
    {
     "name": "stdout",
     "output_type": "stream",
     "text": [
      "<class 'pandas.core.frame.DataFrame'>\n",
      "RangeIndex: 25552 entries, 0 to 25551\n",
      "Data columns (total 6 columns):\n",
      " #   Column        Non-Null Count  Dtype   \n",
      "---  ------        --------------  -----   \n",
      " 0   Release_Date  25552 non-null  int32   \n",
      " 1   Title         25552 non-null  object  \n",
      " 2   Popularity    25552 non-null  float64 \n",
      " 3   Vote_Count    25552 non-null  int64   \n",
      " 4   Vote_Average  25552 non-null  category\n",
      " 5   Genre         25552 non-null  category\n",
      "dtypes: category(2), float64(1), int32(1), int64(1), object(1)\n",
      "memory usage: 749.6+ KB\n"
     ]
    }
   ],
   "source": [
    "df.info()"
   ]
  },
  {
   "cell_type": "code",
   "execution_count": 63,
   "id": "2cb4f2f1-41d9-4724-bb28-47d88ff34cd9",
   "metadata": {},
   "outputs": [
    {
     "data": {
      "text/plain": [
       "Release_Date     100\n",
       "Title           9415\n",
       "Popularity      8088\n",
       "Vote_Count      3265\n",
       "Vote_Average       4\n",
       "Genre             19\n",
       "dtype: int64"
      ]
     },
     "execution_count": 63,
     "metadata": {},
     "output_type": "execute_result"
    }
   ],
   "source": [
    "df.nunique()"
   ]
  },
  {
   "cell_type": "markdown",
   "id": "7dddaba0-646e-446b-a1b9-f9771f62ab86",
   "metadata": {},
   "source": [
    "# Data Visualization"
   ]
  },
  {
   "cell_type": "code",
   "execution_count": null,
   "id": "deb200e8-8758-44a9-b507-b46285bcf3e9",
   "metadata": {},
   "outputs": [],
   "source": [
    "sns.set_style('whitegrid')"
   ]
  },
  {
   "cell_type": "markdown",
   "id": "baf37d6e-e050-4387-8e1f-e7a987e29957",
   "metadata": {},
   "source": [
    "# What is the most frequent genre of movies released on Netflix?"
   ]
  },
  {
   "cell_type": "code",
   "execution_count": 67,
   "id": "a7f6013b-4b05-4642-820a-86846562ecaf",
   "metadata": {},
   "outputs": [
    {
     "data": {
      "text/plain": [
       "count     25552\n",
       "unique       19\n",
       "top       Drama\n",
       "freq       3715\n",
       "Name: Genre, dtype: object"
      ]
     },
     "execution_count": 67,
     "metadata": {},
     "output_type": "execute_result"
    }
   ],
   "source": [
    "df['Genre'].describe()"
   ]
  },
  {
   "cell_type": "code",
   "execution_count": 78,
   "id": "c708a72c-2c00-488b-8d41-a51c08702def",
   "metadata": {},
   "outputs": [
    {
     "data": {
      "image/png": "[encoded data removed]",
      "text/plain": [
       "<Figure size 511.111x500 with 1 Axes>"
      ]
     },
     "metadata": {},
     "output_type": "display_data"
    }
   ],
   "source": [
    "sns.catplot(y = 'Genre', data = df, kind = 'count',\n",
    "            order = df['Genre'].value_counts().index,\n",
    "            color = '#4287f5')\n",
    "plt.title(\"Genre column distribution\")\n",
    "plt.show()"
   ]
  },
  {
   "cell_type": "markdown",
   "id": "c10d8807-fd7a-484c-a398-d14aec2907c4",
   "metadata": {},
   "source": [
    "# Which has the highest votes in vote avg column"
   ]
  },
  {
   "cell_type": "code",
   "execution_count": 81,
   "id": "09c48693-dc2c-47b6-a7ec-68faa47074b2",
   "metadata": {},
   "outputs": [
    {
     "data": {
      "text/html": [
       "<div>\n",
       "<style scoped>\n",
       "    .dataframe tbody tr th:only-of-type {\n",
       "        vertical-align: middle;\n",
       "    }\n",
       "\n",
       "    .dataframe tbody tr th {\n",
       "        vertical-align: top;\n",
       "    }\n",
       "\n",
       "    .dataframe thead th {\n",
       "        text-align: right;\n",
       "    }\n",
       "</style>\n",
       "<table border=\"1\" class=\"dataframe\">\n",
       "  <thead>\n",
       "    <tr style=\"text-align: right;\">\n",
       "      <th></th>\n",
       "      <th>Release_Date</th>\n",
       "      <th>Title</th>\n",
       "      <th>Popularity</th>\n",
       "      <th>Vote_Count</th>\n",
       "      <th>Vote_Average</th>\n",
       "      <th>Genre</th>\n",
       "    </tr>\n",
       "  </thead>\n",
       "  <tbody>\n",
       "    <tr>\n",
       "      <th>0</th>\n",
       "      <td>2021</td>\n",
       "      <td>Spider-Man: No Way Home</td>\n",
       "      <td>5083.954</td>\n",
       "      <td>8940</td>\n",
       "      <td>popular</td>\n",
       "      <td>Action</td>\n",
       "    </tr>\n",
       "    <tr>\n",
       "      <th>1</th>\n",
       "      <td>2021</td>\n",
       "      <td>Spider-Man: No Way Home</td>\n",
       "      <td>5083.954</td>\n",
       "      <td>8940</td>\n",
       "      <td>popular</td>\n",
       "      <td>Adventure</td>\n",
       "    </tr>\n",
       "    <tr>\n",
       "      <th>2</th>\n",
       "      <td>2021</td>\n",
       "      <td>Spider-Man: No Way Home</td>\n",
       "      <td>5083.954</td>\n",
       "      <td>8940</td>\n",
       "      <td>popular</td>\n",
       "      <td>Science Fiction</td>\n",
       "    </tr>\n",
       "    <tr>\n",
       "      <th>3</th>\n",
       "      <td>2022</td>\n",
       "      <td>The Batman</td>\n",
       "      <td>3827.658</td>\n",
       "      <td>1151</td>\n",
       "      <td>popular</td>\n",
       "      <td>Crime</td>\n",
       "    </tr>\n",
       "    <tr>\n",
       "      <th>4</th>\n",
       "      <td>2022</td>\n",
       "      <td>The Batman</td>\n",
       "      <td>3827.658</td>\n",
       "      <td>1151</td>\n",
       "      <td>popular</td>\n",
       "      <td>Mystery</td>\n",
       "    </tr>\n",
       "  </tbody>\n",
       "</table>\n",
       "</div>"
      ],
      "text/plain": [
       "   Release_Date                    Title  Popularity  Vote_Count Vote_Average  \\\n",
       "0          2021  Spider-Man: No Way Home    5083.954        8940      popular   \n",
       "1          2021  Spider-Man: No Way Home    5083.954        8940      popular   \n",
       "2          2021  Spider-Man: No Way Home    5083.954        8940      popular   \n",
       "3          2022               The Batman    3827.658        1151      popular   \n",
       "4          2022               The Batman    3827.658        1151      popular   \n",
       "\n",
       "             Genre  \n",
       "0           Action  \n",
       "1        Adventure  \n",
       "2  Science Fiction  \n",
       "3            Crime  \n",
       "4          Mystery  "
      ]
     },
     "execution_count": 81,
     "metadata": {},
     "output_type": "execute_result"
    }
   ],
   "source": [
    "df.head()"
   ]
  },
  {
   "cell_type": "code",
   "execution_count": 85,
   "id": "c2bdf4aa-3817-4c3a-abf3-7c782ad20215",
   "metadata": {},
   "outputs": [
    {
     "data": {
      "image/png": "[encoded data removed]",
      "text/plain": [
       "<Figure size 511.111x500 with 1 Axes>"
      ]
     },
     "metadata": {},
     "output_type": "display_data"
    }
   ],
   "source": [
    "sns.catplot(y = 'Vote_Average', data = df, kind = 'count',\n",
    "            order = df['Vote_Average'].value_counts().index,\n",
    "            color = '#4287f5')\n",
    "plt.title('Votes Distribution')\n",
    "plt.show()"
   ]
  },
  {
   "cell_type": "markdown",
   "id": "a5bdcf9d-1dd6-4232-9feb-a8dd798d3726",
   "metadata": {},
   "source": [
    "# What movie got the highest popularity? what is its genre?"
   ]
  },
  {
   "cell_type": "code",
   "execution_count": 88,
   "id": "ca3ada32-e343-4ea2-a291-13b3f80a447e",
   "metadata": {},
   "outputs": [
    {
     "data": {
      "text/html": [
       "<div>\n",
       "<style scoped>\n",
       "    .dataframe tbody tr th:only-of-type {\n",
       "        vertical-align: middle;\n",
       "    }\n",
       "\n",
       "    .dataframe tbody tr th {\n",
       "        vertical-align: top;\n",
       "    }\n",
       "\n",
       "    .dataframe thead th {\n",
       "        text-align: right;\n",
       "    }\n",
       "</style>\n",
       "<table border=\"1\" class=\"dataframe\">\n",
       "  <thead>\n",
       "    <tr style=\"text-align: right;\">\n",
       "      <th></th>\n",
       "      <th>Release_Date</th>\n",
       "      <th>Title</th>\n",
       "      <th>Popularity</th>\n",
       "      <th>Vote_Count</th>\n",
       "      <th>Vote_Average</th>\n",
       "      <th>Genre</th>\n",
       "    </tr>\n",
       "  </thead>\n",
       "  <tbody>\n",
       "    <tr>\n",
       "      <th>0</th>\n",
       "      <td>2021</td>\n",
       "      <td>Spider-Man: No Way Home</td>\n",
       "      <td>5083.954</td>\n",
       "      <td>8940</td>\n",
       "      <td>popular</td>\n",
       "      <td>Action</td>\n",
       "    </tr>\n",
       "    <tr>\n",
       "      <th>1</th>\n",
       "      <td>2021</td>\n",
       "      <td>Spider-Man: No Way Home</td>\n",
       "      <td>5083.954</td>\n",
       "      <td>8940</td>\n",
       "      <td>popular</td>\n",
       "      <td>Adventure</td>\n",
       "    </tr>\n",
       "    <tr>\n",
       "      <th>2</th>\n",
       "      <td>2021</td>\n",
       "      <td>Spider-Man: No Way Home</td>\n",
       "      <td>5083.954</td>\n",
       "      <td>8940</td>\n",
       "      <td>popular</td>\n",
       "      <td>Science Fiction</td>\n",
       "    </tr>\n",
       "  </tbody>\n",
       "</table>\n",
       "</div>"
      ],
      "text/plain": [
       "   Release_Date                    Title  Popularity  Vote_Count Vote_Average  \\\n",
       "0          2021  Spider-Man: No Way Home    5083.954        8940      popular   \n",
       "1          2021  Spider-Man: No Way Home    5083.954        8940      popular   \n",
       "2          2021  Spider-Man: No Way Home    5083.954        8940      popular   \n",
       "\n",
       "             Genre  \n",
       "0           Action  \n",
       "1        Adventure  \n",
       "2  Science Fiction  "
      ]
     },
     "execution_count": 88,
     "metadata": {},
     "output_type": "execute_result"
    }
   ],
   "source": [
    "df[df['Popularity'] == df['Popularity'].max()]"
   ]
  },
  {
   "cell_type": "markdown",
   "id": "471f3c93-d177-445a-94bf-d7e2175a3612",
   "metadata": {},
   "source": [
    "# Which movie got the least popularity? what is its genre?"
   ]
  },
  {
   "cell_type": "code",
   "execution_count": 90,
   "id": "631e6433-710a-4ce3-9b84-8d8429d1c2cd",
   "metadata": {},
   "outputs": [
    {
     "data": {
      "text/html": [
       "<div>\n",
       "<style scoped>\n",
       "    .dataframe tbody tr th:only-of-type {\n",
       "        vertical-align: middle;\n",
       "    }\n",
       "\n",
       "    .dataframe tbody tr th {\n",
       "        vertical-align: top;\n",
       "    }\n",
       "\n",
       "    .dataframe thead th {\n",
       "        text-align: right;\n",
       "    }\n",
       "</style>\n",
       "<table border=\"1\" class=\"dataframe\">\n",
       "  <thead>\n",
       "    <tr style=\"text-align: right;\">\n",
       "      <th></th>\n",
       "      <th>Release_Date</th>\n",
       "      <th>Title</th>\n",
       "      <th>Popularity</th>\n",
       "      <th>Vote_Count</th>\n",
       "      <th>Vote_Average</th>\n",
       "      <th>Genre</th>\n",
       "    </tr>\n",
       "  </thead>\n",
       "  <tbody>\n",
       "    <tr>\n",
       "      <th>25546</th>\n",
       "      <td>2021</td>\n",
       "      <td>The United States vs. Billie Holiday</td>\n",
       "      <td>13.354</td>\n",
       "      <td>152</td>\n",
       "      <td>average</td>\n",
       "      <td>Music</td>\n",
       "    </tr>\n",
       "    <tr>\n",
       "      <th>25547</th>\n",
       "      <td>2021</td>\n",
       "      <td>The United States vs. Billie Holiday</td>\n",
       "      <td>13.354</td>\n",
       "      <td>152</td>\n",
       "      <td>average</td>\n",
       "      <td>Drama</td>\n",
       "    </tr>\n",
       "    <tr>\n",
       "      <th>25548</th>\n",
       "      <td>2021</td>\n",
       "      <td>The United States vs. Billie Holiday</td>\n",
       "      <td>13.354</td>\n",
       "      <td>152</td>\n",
       "      <td>average</td>\n",
       "      <td>History</td>\n",
       "    </tr>\n",
       "    <tr>\n",
       "      <th>25549</th>\n",
       "      <td>1984</td>\n",
       "      <td>Threads</td>\n",
       "      <td>13.354</td>\n",
       "      <td>186</td>\n",
       "      <td>popular</td>\n",
       "      <td>War</td>\n",
       "    </tr>\n",
       "    <tr>\n",
       "      <th>25550</th>\n",
       "      <td>1984</td>\n",
       "      <td>Threads</td>\n",
       "      <td>13.354</td>\n",
       "      <td>186</td>\n",
       "      <td>popular</td>\n",
       "      <td>Drama</td>\n",
       "    </tr>\n",
       "    <tr>\n",
       "      <th>25551</th>\n",
       "      <td>1984</td>\n",
       "      <td>Threads</td>\n",
       "      <td>13.354</td>\n",
       "      <td>186</td>\n",
       "      <td>popular</td>\n",
       "      <td>Science Fiction</td>\n",
       "    </tr>\n",
       "  </tbody>\n",
       "</table>\n",
       "</div>"
      ],
      "text/plain": [
       "       Release_Date                                 Title  Popularity  \\\n",
       "25546          2021  The United States vs. Billie Holiday      13.354   \n",
       "25547          2021  The United States vs. Billie Holiday      13.354   \n",
       "25548          2021  The United States vs. Billie Holiday      13.354   \n",
       "25549          1984                               Threads      13.354   \n",
       "25550          1984                               Threads      13.354   \n",
       "25551          1984                               Threads      13.354   \n",
       "\n",
       "       Vote_Count Vote_Average            Genre  \n",
       "25546         152      average            Music  \n",
       "25547         152      average            Drama  \n",
       "25548         152      average          History  \n",
       "25549         186      popular              War  \n",
       "25550         186      popular            Drama  \n",
       "25551         186      popular  Science Fiction  "
      ]
     },
     "execution_count": 90,
     "metadata": {},
     "output_type": "execute_result"
    }
   ],
   "source": [
    "df[df['Popularity'] == df['Popularity'].min()]"
   ]
  },
  {
   "cell_type": "markdown",
   "id": "ba7fd264-be03-40ee-bcad-a325ca6d79fa",
   "metadata": {},
   "source": [
    "# Which year has the most filmed movies?"
   ]
  },
  {
   "cell_type": "code",
   "execution_count": 94,
   "id": "f0dc4822-511b-4e7b-b505-6ae12bdf10da",
   "metadata": {},
   "outputs": [
    {
     "data": {
      "image/png": "[encoded data removed]",
      "text/plain": [
       "<Figure size 640x480 with 1 Axes>"
      ]
     },
     "metadata": {},
     "output_type": "display_data"
    }
   ],
   "source": [
    "df['Release_Date'].hist()\n",
    "plt.title('Release Date Column Distribution')\n",
    "plt.show()"
   ]
  },
  {
   "cell_type": "markdown",
   "id": "9865188b-ca0b-4ffb-8420-a064b2486547",
   "metadata": {},
   "source": [
    "# Conclusion"
   ]
  },
  {
   "cell_type": "markdown",
   "id": "2d3d378a-a819-45a3-b0a6-f6e517702fa6",
   "metadata": {},
   "source": [
    "Q1: What is the most frequent genre in the dataset?\n",
    "Drama genre is the most frequent genre in our dataset and has appeared more than\n",
    "14% of the times among 19 other genres.\n",
    "Q2: What genres has highest votes ?\n",
    "we have 25.5% of our dataset with popular vote (6520 rows). Drama again gets the\n",
    "highest popularity among fans by being having more than 18.5% of movies popularities.\n",
    "Q3: What movie got the highest popularity ? what's its genre ?\n",
    "Spider-Man: No Way Home has the highest popularity rate in our dataset and it has\n",
    "genres of Action , Adventure and Sience Fiction .\n",
    "Q3: What movie got the lowest popularity ? what's its genre ?\n",
    "The united states, thread' has the highest lowest rate in our dataset\n",
    "and it has genres of music , drama , 'war', 'sci-fi' and history`.\n",
    "Q4: Which year has the most filmmed movies?\n",
    "year 2020 has the highest filmming rate in our dataset"
   ]
  }
 ],
 "metadata": {
  "kernelspec": {
   "display_name": "Python 3 (ipykernel)",
   "language": "python",
   "name": "python3"
  },
  "language_info": {
   "codemirror_mode": {
    "name": "ipython",
    "version": 3
   },
   "file_extension": ".py",
   "mimetype": "text/x-python",
   "name": "python",
   "nbconvert_exporter": "python",
   "pygments_lexer": "ipython3",
   "version": "3.12.7"
  }
 },
 "nbformat": 4,
 "nbformat_minor": 5
}
